{
    "cells": [
        {
            "cell_type": "markdown",
            "metadata": {
                "collapsed": true
            },
            "source": "# Introduction\nNew York City (NYC) has been described as the cultural, financial, and media capital of the world, significantly influencing commerce,[1] entertainment, research, technology, education, politics, tourism, art, fashion, and sports. Manhattan, often referred to by residents of the New York City area as the City, is the most densely populated of the five boroughs of NYC and has long been the flag bearer for people worldwide coming to the US to live the American Dream [2]. However, with the growing immigration queues and visa issues in the US, a large exodus of technical and financial workers is moving to Canada [3,4], where the immigration rules have been designed to welcome skilled workers [5]. A lot of people who are used to the unique urban Manhattan lifestyle look towards Toronto, an international center of business, finance, arts, and culture, that is recognized as one of the most multicultural and cosmopolitan cities in the world [6]. Toronto is a very vibrant city with a lot of neighborhoods, each with unique character. Some neighborhoods have a convenient access to parks and eateries, while others offer a lot of fun and nightlife activities. Choosing a neighborhood to move to or opening a business in a new city (let alone country) can be complicated, but with the help of location data from Foursquare, the task can be made a little bit easier."
        },
        {
            "cell_type": "markdown",
            "metadata": {},
            "source": "# Business Problem\nThe objective of this capstone project is to use data science methodology to analyze and list the neighborhoods in the city of Toronto that are similar to Manhattan to live in or open a new business. \n\n# Target Audience\nPeople interested in moving to Toronto from Manhattan and looking for a similar neighborhood to what they are used to. It can also be useful for people who want to open a new business in Toronto.\n\n# Data\nFor this project, the following data will be used:\n<\\br>\u2022 List of neighborhoods in Toronto and Manhattan\n<\\br>\u2022 Latitude and longitude coordinates of neighborhoods to get the venue data\n<\\br>\u2022 Venues Details\nFirst, we need to get a full list of all Toronto neighborhoods. The Wikipedia article List of districts and neighborhoods in Toronto will be parsed to obtain and extract this data [7]. The Manhattan data will be extracted from New York City neighborhood data [8]. The next step will be to convert addresses into their equivalent latitude and longitude values. Also, the Foursquare API will be used to explore the neighborhoods in Manhattan and Toronto. The explore function will be used to get the most common venue categories such as restaurants, gyms etc. in each neighborhood, and then used to group the neighborhoods into clusters. The k-means clustering algorithm will be used to complete this task. Each cluster will be examined to determine the discriminating venue categories such as restaurants, park etc. that distinguish each cluster. Based on the defining categories, each cluster from Toronto and Manhattan will be compared.\n\n# References\n[1] Barry, Dan. \"A Nation challenged: in New York; New York Carries On, but Test of Its Grit Has Just Begun\" Archived March 24, 2020, at the Wayback Machine, The New York Times, October 11, 2001. Accessed November 20, 2016. \"A roaring void has been created in the financial center of the world.\" <br/>\n[2] https://www.encyclopedia.com/education/educational-magazines/immigrant-american-dream <br/>\n[3] https://www.vox.com/2019/3/19/18264391/us-tech-jobs-canada-immigration-policies-trump <br/>\n[4] https://www.ctvnews.ca/world/jobs-will-move-to-canada-if-u-s-immigration-policies-don-t-change-duolingo-ceo-says-1.5015618 <br/>\n[5] https://www.cicnews.com/2020/03/canada-to-welcome-up-to-390000-immigrants-in-2022-0313872.html#gs.mdnbvb <br/>\n[6] Robert Vipond (April 24, 2017). Making a Global City: How One Toronto School Embraced Diversity. University of Toronto Press. p. 147. ISBN 978-1-4426-2443-6. <br/>\n[7] https://en.wikipedia.org/wiki/List_of_neighbourhoods_in_Toronto <br/>\n[8] https://geo.nyu.edu/catalog/nyu_2451_34572<br/>"
        },
        {
            "cell_type": "code",
            "execution_count": null,
            "metadata": {},
            "outputs": [],
            "source": ""
        },
        {
            "cell_type": "code",
            "execution_count": null,
            "metadata": {},
            "outputs": [],
            "source": ""
        }
    ],
    "metadata": {
        "kernelspec": {
            "display_name": "Python 3.7",
            "language": "python",
            "name": "python3"
        },
        "language_info": {
            "codemirror_mode": {
                "name": "ipython",
                "version": 3
            },
            "file_extension": ".py",
            "mimetype": "text/x-python",
            "name": "python",
            "nbconvert_exporter": "python",
            "pygments_lexer": "ipython3",
            "version": "3.7.9"
        }
    },
    "nbformat": 4,
    "nbformat_minor": 1
}